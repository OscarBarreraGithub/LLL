{
 "cells": [
  {
   "cell_type": "markdown",
   "id": "31d16342-687a-4ff9-a3c2-5db6341106cd",
   "metadata": {},
   "source": [
    "### Here, we load in a sample custom function to see how the Mathematica Kernel works\n",
    "\n",
    "Make sure to update kernelPath to where you have WolframKernel installed"
   ]
  },
  {
   "cell_type": "code",
   "execution_count": 1,
   "id": "a5a7c81b-fe43-4f16-936e-f91bdde4363c",
   "metadata": {},
   "outputs": [
    {
     "name": "stdout",
     "output_type": "stream",
     "text": [
      "The result of MyCustomSquareFunction(5) is: 25\n"
     ]
    }
   ],
   "source": [
    "from wolframclient.evaluation import WolframLanguageSession\n",
    "from wolframclient.language import wl\n",
    "\n",
    "# Path to the Mathematica kernel\n",
    "kernelPath = \"/Applications/Wolfram.app/Contents/MacOS/WolframKernel\"\n",
    "\n",
    "# Start a Mathematica kernel session\n",
    "session = WolframLanguageSession(kernel=kernelPath)\n",
    "\n",
    "# Define the path to the Mathematica script (replace with the correct relative or absolute path)\n",
    "mathematica_script_path = 'MathematicaScripts/script.wl'\n",
    "\n",
    "# Load the Mathematica script into the session\n",
    "session.evaluate(f'Get[\"{mathematica_script_path}\"]')\n",
    "\n",
    "# Call the function explicitly in the Global context\n",
    "result = session.evaluate(wl.Global.MyCustomSquareFunction(5))\n",
    "\n",
    "# Print the result\n",
    "print(f\"The result of MyCustomSquareFunction(5) is: {result}\")\n",
    "\n",
    "# Terminate the session\n",
    "session.terminate()\n"
   ]
  },
  {
   "cell_type": "markdown",
   "id": "ed3143ff-6087-44f0-a4f7-571dd762f79c",
   "metadata": {},
   "source": [
    "### Perform LLL on a sample function"
   ]
  },
  {
   "cell_type": "code",
   "execution_count": 2,
   "id": "ce356e16-d62b-4d6b-9b87-9d1974dff3f4",
   "metadata": {},
   "outputs": [
    {
     "data": {
      "text/latex": [
       "$\\displaystyle 8 x^2-12 x+4$"
      ],
      "text/plain": [
       "<IPython.core.display.Math object>"
      ]
     },
     "metadata": {},
     "output_type": "display_data"
    },
    {
     "name": "stdout",
     "output_type": "stream",
     "text": [
      "The result of the integral is: 0.66666666666666666668830984884265485462\n",
      "LLL result: Rational[2, 3]\n"
     ]
    },
    {
     "data": {
      "text/latex": [
       "$\\displaystyle \\frac{2}{3}$"
      ],
      "text/plain": [
       "<IPython.core.display.Math object>"
      ]
     },
     "metadata": {},
     "output_type": "display_data"
    },
    {
     "name": "stdout",
     "output_type": "stream",
     "text": [
      "Numerical LLL result (to 10 digit precision): 0.66666666666666666666666666666666666667\n"
     ]
    }
   ],
   "source": [
    "from wolframclient.evaluation import WolframLanguageSession\n",
    "from wolframclient.language import wl\n",
    "from IPython.display import display, Math\n",
    "\n",
    "# Path to the Mathematica kernel\n",
    "kernelPath = \"/Applications/Wolfram.app/Contents/MacOS/WolframKernel\"\n",
    "\n",
    "# Start a Mathematica kernel session\n",
    "session = WolframLanguageSession(kernel=kernelPath)\n",
    "\n",
    "# Define the path to the Mathematica script (replace with the correct relative or absolute path)\n",
    "mathematica_script_path = 'MathematicaScripts/LLL.wl'\n",
    "\n",
    "# Load the Mathematica script into the session\n",
    "session.evaluate(f'Get[\"{mathematica_script_path}\"]')\n",
    "\n",
    "# Simplified integrand\n",
    "integrand = wl.Plus(\n",
    "                4,\n",
    "                wl.Times(-12, wl.x),\n",
    "                wl.Times(8, wl.Power(wl.x, 2)),\n",
    "            )\n",
    "\n",
    "# Define the basis functions in Python using `wl`\n",
    "basis_functions = wl.List(\n",
    "    wl.Divide(1, wl.Power(wl.Pi, 2)),   # 1/π^2\n",
    "    1,                                  # 1\n",
    "    wl.Divide(wl.Zeta(3), wl.Power(wl.Pi, 2)),  # Zeta[3]/π^2\n",
    "    wl.EulerGamma,                      # EulerGamma\n",
    "    wl.Catalan                         # Catalan\n",
    ")\n",
    "\n",
    "# Define WorkingPrecision and PrecisionGoal parameters\n",
    "working_precision = 10\n",
    "precision_goal = 10\n",
    "\n",
    "# Call the EvaluateIntegral function defined in the Mathematica script\n",
    "result = session.evaluate(\n",
    "    wl.Global.EvaluateIntegral(integrand, wl.List(wl.x, 0, 1), working_precision, precision_goal)\n",
    ")\n",
    "\n",
    "latexInt = session.evaluate(wl.ToString(wl.TeXForm(integrand)))\n",
    "\n",
    "# Print the result\n",
    "# Render the LaTeX in Jupyter\n",
    "display(Math(latexInt))\n",
    "print(f\"The result of the integral is: {result}\")\n",
    "\n",
    "# Call the LatRed function in Mathematica\n",
    "lllresult = session.evaluate(\n",
    "    wl.Global.LatRed(basis_functions, result, 10)\n",
    ")\n",
    "\n",
    "\n",
    "lllLatex = session.evaluate(wl.ToString(wl.TeXForm(lllresult)))\n",
    "\n",
    "# Print the result\n",
    "print(f\"LLL result: {lllresult}\")\n",
    "display(Math(lllLatex))\n",
    "\n",
    "# Call N[lllresult, 40] in Python to get a numerical approximation with 40 digits\n",
    "numerical_lllresult = session.evaluate(\n",
    "    wl.N(lllresult, 10)\n",
    ")\n",
    "\n",
    "# Print the result\n",
    "print(f\"Numerical LLL result (to 10 digit precision): {numerical_lllresult}\")\n",
    "\n",
    "# Terminate the session\n",
    "session.terminate()"
   ]
  },
  {
   "cell_type": "markdown",
   "id": "4f79be08-a540-4e8d-a9b6-c1baf4fc2ac5",
   "metadata": {},
   "source": [
    "### And finally on a more complex function"
   ]
  },
  {
   "cell_type": "code",
   "execution_count": 3,
   "id": "2c2be03e-a23b-4373-9c50-fbd16c40b489",
   "metadata": {},
   "outputs": [
    {
     "data": {
      "text/latex": [
       "$\\displaystyle \\log ^2(x+1)+\\frac{1}{2} \\log ^2(x+2)+\\frac{1}{3} \\log ^2(x+3)+\\frac{1}{4} \\log ^2(x+4)+\\frac{1}{5} \\log ^2(x+5)$"
      ],
      "text/plain": [
       "<IPython.core.display.Math object>"
      ]
     },
     "metadata": {},
     "output_type": "display_data"
    },
    {
     "data": {
      "text/latex": [
       "$\\displaystyle \\left\\{\\log ^2(x+1),\\log ^2(x+2),\\log ^2(x+3),\\log ^2(x+4),\\log ^2(x+5),\\log ^2(x+6),\\log ^2(x+7),\\log ^2(x+8),\\log ^2(x+9),\\log ^2(x+10),\\log ^2(x+11),\\log ^2(x+12),\\log ^2(x+13),\\log ^2(x+14),\\log ^2(x+15),\\log ^2(x+16),\\log ^2(x+17),\\log ^2(x+18),\\log ^2(x+19),\\log ^2(x+20)\\right\\}$"
      ],
      "text/plain": [
       "<IPython.core.display.Math object>"
      ]
     },
     "metadata": {},
     "output_type": "display_data"
    },
    {
     "name": "stdout",
     "output_type": "stream",
     "text": [
      "test probe:\n"
     ]
    },
    {
     "data": {
      "text/latex": [
       "$\\displaystyle \\left\\{\\log ^2\\left(\\frac{4}{3}\\right)+\\frac{1}{2} \\log ^2\\left(\\frac{7}{3}\\right)+\\frac{1}{3} \\log ^2\\left(\\frac{10}{3}\\right)+\\frac{1}{4} \\log ^2\\left(\\frac{13}{3}\\right)+\\frac{1}{5} \\log ^2\\left(\\frac{16}{3}\\right)+\\frac{1}{6} \\log ^2\\left(\\frac{19}{3}\\right)+\\frac{1}{7} \\log ^2\\left(\\frac{22}{3}\\right)+\\frac{1}{8} \\log ^2\\left(\\frac{25}{3}\\right)+\\frac{1}{9} \\log ^2\\left(\\frac{28}{3}\\right)+\\frac{1}{10} \\log ^2\\left(\\frac{31}{3}\\right)+\\frac{1}{11} \\log ^2\\left(\\frac{34}{3}\\right)+\\frac{1}{12} \\log ^2\\left(\\frac{37}{3}\\right)+\\frac{1}{13} \\log ^2\\left(\\frac{40}{3}\\right)+\\frac{1}{14} \\log ^2\\left(\\frac{43}{3}\\right)+\\frac{1}{15} \\log ^2\\left(\\frac{46}{3}\\right),\\log ^2\\left(\\frac{5}{4}\\right)+\\frac{1}{2} \\log ^2\\left(\\frac{9}{4}\\right)+\\frac{1}{3} \\log ^2\\left(\\frac{13}{4}\\right)+\\frac{1}{4} \\log ^2\\left(\\frac{17}{4}\\right)+\\frac{1}{5} \\log ^2\\left(\\frac{21}{4}\\right)+\\frac{1}{6} \\log ^2\\left(\\frac{25}{4}\\right)+\\frac{1}{7} \\log ^2\\left(\\frac{29}{4}\\right)+\\frac{1}{8} \\log ^2\\left(\\frac{33}{4}\\right)+\\frac{1}{9} \\log ^2\\left(\\frac{37}{4}\\right)+\\frac{1}{10} \\log ^2\\left(\\frac{41}{4}\\right)+\\frac{1}{11} \\log ^2\\left(\\frac{45}{4}\\right)+\\frac{1}{12} \\log ^2\\left(\\frac{49}{4}\\right)+\\frac{1}{13} \\log ^2\\left(\\frac{53}{4}\\right)+\\frac{1}{14} \\log ^2\\left(\\frac{57}{4}\\right)+\\frac{1}{15} \\log ^2\\left(\\frac{61}{4}\\right),\\log ^2\\left(\\frac{6}{5}\\right)+\\frac{1}{2} \\log ^2\\left(\\frac{11}{5}\\right)+\\frac{1}{3} \\log ^2\\left(\\frac{16}{5}\\right)+\\frac{1}{4} \\log ^2\\left(\\frac{21}{5}\\right)+\\frac{1}{5} \\log ^2\\left(\\frac{26}{5}\\right)+\\frac{1}{6} \\log ^2\\left(\\frac{31}{5}\\right)+\\frac{1}{7} \\log ^2\\left(\\frac{36}{5}\\right)+\\frac{1}{8} \\log ^2\\left(\\frac{41}{5}\\right)+\\frac{1}{9} \\log ^2\\left(\\frac{46}{5}\\right)+\\frac{1}{10} \\log ^2\\left(\\frac{51}{5}\\right)+\\frac{1}{11} \\log ^2\\left(\\frac{56}{5}\\right)+\\frac{1}{12} \\log ^2\\left(\\frac{61}{5}\\right)+\\frac{1}{13} \\log ^2\\left(\\frac{66}{5}\\right)+\\frac{1}{14} \\log ^2\\left(\\frac{71}{5}\\right)+\\frac{1}{15} \\log ^2\\left(\\frac{76}{5}\\right),\\log ^2\\left(\\frac{7}{6}\\right)+\\frac{1}{2} \\log ^2\\left(\\frac{13}{6}\\right)+\\frac{1}{3} \\log ^2\\left(\\frac{19}{6}\\right)+\\frac{1}{4} \\log ^2\\left(\\frac{25}{6}\\right)+\\frac{1}{5} \\log ^2\\left(\\frac{31}{6}\\right)+\\frac{1}{6} \\log ^2\\left(\\frac{37}{6}\\right)+\\frac{1}{7} \\log ^2\\left(\\frac{43}{6}\\right)+\\frac{1}{8} \\log ^2\\left(\\frac{49}{6}\\right)+\\frac{1}{9} \\log ^2\\left(\\frac{55}{6}\\right)+\\frac{1}{10} \\log ^2\\left(\\frac{61}{6}\\right)+\\frac{1}{11} \\log ^2\\left(\\frac{67}{6}\\right)+\\frac{1}{12} \\log ^2\\left(\\frac{73}{6}\\right)+\\frac{1}{13} \\log ^2\\left(\\frac{79}{6}\\right)+\\frac{1}{14} \\log ^2\\left(\\frac{85}{6}\\right)+\\frac{1}{15} \\log ^2\\left(\\frac{91}{6}\\right),\\log ^2\\left(\\frac{8}{7}\\right)+\\frac{1}{2} \\log ^2\\left(\\frac{15}{7}\\right)+\\frac{1}{3} \\log ^2\\left(\\frac{22}{7}\\right)+\\frac{1}{4} \\log ^2\\left(\\frac{29}{7}\\right)+\\frac{1}{5} \\log ^2\\left(\\frac{36}{7}\\right)+\\frac{1}{6} \\log ^2\\left(\\frac{43}{7}\\right)+\\frac{1}{7} \\log ^2\\left(\\frac{50}{7}\\right)+\\frac{1}{8} \\log ^2\\left(\\frac{57}{7}\\right)+\\frac{1}{9} \\log ^2\\left(\\frac{64}{7}\\right)+\\frac{1}{10} \\log ^2\\left(\\frac{71}{7}\\right)+\\frac{1}{11} \\log ^2\\left(\\frac{78}{7}\\right)+\\frac{1}{12} \\log ^2\\left(\\frac{85}{7}\\right)+\\frac{1}{13} \\log ^2\\left(\\frac{92}{7}\\right)+\\frac{1}{14} \\log ^2\\left(\\frac{99}{7}\\right)+\\frac{1}{15} \\log ^2\\left(\\frac{106}{7}\\right)\\right\\}$"
      ],
      "text/plain": [
       "<IPython.core.display.Math object>"
      ]
     },
     "metadata": {},
     "output_type": "display_data"
    },
    {
     "name": "stdout",
     "output_type": "stream",
     "text": [
      "basis eval:\n"
     ]
    },
    {
     "data": {
      "text/latex": [
       "$\\displaystyle \\left(\n",
       "\\begin{array}{cccccccccccccccccccccccccccccc}\n",
       " \\log ^2\\left(\\frac{4}{3}\\right) & \\log ^2\\left(\\frac{7}{3}\\right) & \\log ^2\\left(\\frac{10}{3}\\right) & \\log ^2\\left(\\frac{13}{3}\\right) & \\log ^2\\left(\\frac{16}{3}\\right) & \\log ^2\\left(\\frac{19}{3}\\right) & \\log ^2\\left(\\frac{22}{3}\\right) & \\log ^2\\left(\\frac{25}{3}\\right) & \\log ^2\\left(\\frac{28}{3}\\right) & \\log ^2\\left(\\frac{31}{3}\\right) & \\log ^2\\left(\\frac{34}{3}\\right) & \\log ^2\\left(\\frac{37}{3}\\right) & \\log ^2\\left(\\frac{40}{3}\\right) & \\log ^2\\left(\\frac{43}{3}\\right) & \\log ^2\\left(\\frac{46}{3}\\right) & \\log ^2\\left(\\frac{49}{3}\\right) & \\log ^2\\left(\\frac{52}{3}\\right) & \\log ^2\\left(\\frac{55}{3}\\right) & \\log ^2\\left(\\frac{58}{3}\\right) & \\log ^2\\left(\\frac{61}{3}\\right) & \\log ^2\\left(\\frac{64}{3}\\right) & \\log ^2\\left(\\frac{67}{3}\\right) & \\log ^2\\left(\\frac{70}{3}\\right) & \\log ^2\\left(\\frac{73}{3}\\right) & \\log ^2\\left(\\frac{76}{3}\\right) & \\log ^2\\left(\\frac{79}{3}\\right) & \\log ^2\\left(\\frac{82}{3}\\right) & \\log ^2\\left(\\frac{85}{3}\\right) & \\log ^2\\left(\\frac{88}{3}\\right) & \\log ^2\\left(\\frac{91}{3}\\right) \\\\\n",
       " \\log ^2\\left(\\frac{5}{4}\\right) & \\log ^2\\left(\\frac{9}{4}\\right) & \\log ^2\\left(\\frac{13}{4}\\right) & \\log ^2\\left(\\frac{17}{4}\\right) & \\log ^2\\left(\\frac{21}{4}\\right) & \\log ^2\\left(\\frac{25}{4}\\right) & \\log ^2\\left(\\frac{29}{4}\\right) & \\log ^2\\left(\\frac{33}{4}\\right) & \\log ^2\\left(\\frac{37}{4}\\right) & \\log ^2\\left(\\frac{41}{4}\\right) & \\log ^2\\left(\\frac{45}{4}\\right) & \\log ^2\\left(\\frac{49}{4}\\right) & \\log ^2\\left(\\frac{53}{4}\\right) & \\log ^2\\left(\\frac{57}{4}\\right) & \\log ^2\\left(\\frac{61}{4}\\right) & \\log ^2\\left(\\frac{65}{4}\\right) & \\log ^2\\left(\\frac{69}{4}\\right) & \\log ^2\\left(\\frac{73}{4}\\right) & \\log ^2\\left(\\frac{77}{4}\\right) & \\log ^2\\left(\\frac{81}{4}\\right) & \\log ^2\\left(\\frac{85}{4}\\right) & \\log ^2\\left(\\frac{89}{4}\\right) & \\log ^2\\left(\\frac{93}{4}\\right) & \\log ^2\\left(\\frac{97}{4}\\right) & \\log ^2\\left(\\frac{101}{4}\\right) & \\log ^2\\left(\\frac{105}{4}\\right) & \\log ^2\\left(\\frac{109}{4}\\right) & \\log ^2\\left(\\frac{113}{4}\\right) & \\log ^2\\left(\\frac{117}{4}\\right) & \\log ^2\\left(\\frac{121}{4}\\right) \\\\\n",
       " \\log ^2\\left(\\frac{6}{5}\\right) & \\log ^2\\left(\\frac{11}{5}\\right) & \\log ^2\\left(\\frac{16}{5}\\right) & \\log ^2\\left(\\frac{21}{5}\\right) & \\log ^2\\left(\\frac{26}{5}\\right) & \\log ^2\\left(\\frac{31}{5}\\right) & \\log ^2\\left(\\frac{36}{5}\\right) & \\log ^2\\left(\\frac{41}{5}\\right) & \\log ^2\\left(\\frac{46}{5}\\right) & \\log ^2\\left(\\frac{51}{5}\\right) & \\log ^2\\left(\\frac{56}{5}\\right) & \\log ^2\\left(\\frac{61}{5}\\right) & \\log ^2\\left(\\frac{66}{5}\\right) & \\log ^2\\left(\\frac{71}{5}\\right) & \\log ^2\\left(\\frac{76}{5}\\right) & \\log ^2\\left(\\frac{81}{5}\\right) & \\log ^2\\left(\\frac{86}{5}\\right) & \\log ^2\\left(\\frac{91}{5}\\right) & \\log ^2\\left(\\frac{96}{5}\\right) & \\log ^2\\left(\\frac{101}{5}\\right) & \\log ^2\\left(\\frac{106}{5}\\right) & \\log ^2\\left(\\frac{111}{5}\\right) & \\log ^2\\left(\\frac{116}{5}\\right) & \\log ^2\\left(\\frac{121}{5}\\right) & \\log ^2\\left(\\frac{126}{5}\\right) & \\log ^2\\left(\\frac{131}{5}\\right) & \\log ^2\\left(\\frac{136}{5}\\right) & \\log ^2\\left(\\frac{141}{5}\\right) & \\log ^2\\left(\\frac{146}{5}\\right) & \\log ^2\\left(\\frac{151}{5}\\right) \\\\\n",
       " \\log ^2\\left(\\frac{7}{6}\\right) & \\log ^2\\left(\\frac{13}{6}\\right) & \\log ^2\\left(\\frac{19}{6}\\right) & \\log ^2\\left(\\frac{25}{6}\\right) & \\log ^2\\left(\\frac{31}{6}\\right) & \\log ^2\\left(\\frac{37}{6}\\right) & \\log ^2\\left(\\frac{43}{6}\\right) & \\log ^2\\left(\\frac{49}{6}\\right) & \\log ^2\\left(\\frac{55}{6}\\right) & \\log ^2\\left(\\frac{61}{6}\\right) & \\log ^2\\left(\\frac{67}{6}\\right) & \\log ^2\\left(\\frac{73}{6}\\right) & \\log ^2\\left(\\frac{79}{6}\\right) & \\log ^2\\left(\\frac{85}{6}\\right) & \\log ^2\\left(\\frac{91}{6}\\right) & \\log ^2\\left(\\frac{97}{6}\\right) & \\log ^2\\left(\\frac{103}{6}\\right) & \\log ^2\\left(\\frac{109}{6}\\right) & \\log ^2\\left(\\frac{115}{6}\\right) & \\log ^2\\left(\\frac{121}{6}\\right) & \\log ^2\\left(\\frac{127}{6}\\right) & \\log ^2\\left(\\frac{133}{6}\\right) & \\log ^2\\left(\\frac{139}{6}\\right) & \\log ^2\\left(\\frac{145}{6}\\right) & \\log ^2\\left(\\frac{151}{6}\\right) & \\log ^2\\left(\\frac{157}{6}\\right) & \\log ^2\\left(\\frac{163}{6}\\right) & \\log ^2\\left(\\frac{169}{6}\\right) & \\log ^2\\left(\\frac{175}{6}\\right) & \\log ^2\\left(\\frac{181}{6}\\right) \\\\\n",
       " \\log ^2\\left(\\frac{8}{7}\\right) & \\log ^2\\left(\\frac{15}{7}\\right) & \\log ^2\\left(\\frac{22}{7}\\right) & \\log ^2\\left(\\frac{29}{7}\\right) & \\log ^2\\left(\\frac{36}{7}\\right) & \\log ^2\\left(\\frac{43}{7}\\right) & \\log ^2\\left(\\frac{50}{7}\\right) & \\log ^2\\left(\\frac{57}{7}\\right) & \\log ^2\\left(\\frac{64}{7}\\right) & \\log ^2\\left(\\frac{71}{7}\\right) & \\log ^2\\left(\\frac{78}{7}\\right) & \\log ^2\\left(\\frac{85}{7}\\right) & \\log ^2\\left(\\frac{92}{7}\\right) & \\log ^2\\left(\\frac{99}{7}\\right) & \\log ^2\\left(\\frac{106}{7}\\right) & \\log ^2\\left(\\frac{113}{7}\\right) & \\log ^2\\left(\\frac{120}{7}\\right) & \\log ^2\\left(\\frac{127}{7}\\right) & \\log ^2\\left(\\frac{134}{7}\\right) & \\log ^2\\left(\\frac{141}{7}\\right) & \\log ^2\\left(\\frac{148}{7}\\right) & \\log ^2\\left(\\frac{155}{7}\\right) & \\log ^2\\left(\\frac{162}{7}\\right) & \\log ^2\\left(\\frac{169}{7}\\right) & \\log ^2\\left(\\frac{176}{7}\\right) & \\log ^2\\left(\\frac{183}{7}\\right) & \\log ^2\\left(\\frac{190}{7}\\right) & \\log ^2\\left(\\frac{197}{7}\\right) & \\log ^2\\left(\\frac{204}{7}\\right) & \\log ^2\\left(\\frac{211}{7}\\right) \\\\\n",
       "\\end{array}\n",
       "\\right)$"
      ],
      "text/plain": [
       "<IPython.core.display.Math object>"
      ]
     },
     "metadata": {},
     "output_type": "display_data"
    },
    {
     "name": "stdout",
     "output_type": "stream",
     "text": [
      "performed LLL\n",
      "Array LLL result:\n"
     ]
    },
    {
     "data": {
      "text/latex": [
       "$\\displaystyle \\left\\{1,\\frac{1}{2},\\frac{1}{3},\\frac{1}{4},\\frac{1}{5},\\frac{1}{6},\\frac{1}{7},\\frac{1}{8},\\frac{1}{9},\\frac{1}{10},\\frac{1}{11},\\frac{1}{12},\\frac{1}{13},\\frac{1}{14},\\frac{1}{15},0,0,0,0,0,0,0,0,0,0,0,0,0,0,0\\right\\}$"
      ],
      "text/plain": [
       "<IPython.core.display.Math object>"
      ]
     },
     "metadata": {},
     "output_type": "display_data"
    },
    {
     "name": "stdout",
     "output_type": "stream",
     "text": [
      "MapThread:\n"
     ]
    },
    {
     "data": {
      "text/latex": [
       "$\\displaystyle \\log ^2\\left(\\frac{1}{x}+1\\right)+\\frac{1}{2} \\log ^2\\left(\\frac{1}{x}+2\\right)+\\frac{1}{3} \\log ^2\\left(\\frac{1}{x}+3\\right)+\\frac{1}{4} \\log ^2\\left(\\frac{1}{x}+4\\right)+\\frac{1}{5} \\log ^2\\left(\\frac{1}{x}+5\\right)+\\frac{1}{6} \\log ^2\\left(\\frac{1}{x}+6\\right)+\\frac{1}{7} \\log ^2\\left(\\frac{1}{x}+7\\right)+\\frac{1}{8} \\log ^2\\left(\\frac{1}{x}+8\\right)+\\frac{1}{9} \\log ^2\\left(\\frac{1}{x}+9\\right)+\\frac{1}{10} \\log ^2\\left(\\frac{1}{x}+10\\right)+\\frac{1}{11} \\log ^2\\left(\\frac{1}{x}+11\\right)+\\frac{1}{12} \\log ^2\\left(\\frac{1}{x}+12\\right)+\\frac{1}{13} \\log ^2\\left(\\frac{1}{x}+13\\right)+\\frac{1}{14} \\log ^2\\left(\\frac{1}{x}+14\\right)+\\frac{1}{15} \\log ^2\\left(\\frac{1}{x}+15\\right)$"
      ],
      "text/plain": [
       "<IPython.core.display.Math object>"
      ]
     },
     "metadata": {},
     "output_type": "display_data"
    },
    {
     "name": "stdout",
     "output_type": "stream",
     "text": [
      "Are equivalent?\n",
      "True\n"
     ]
    }
   ],
   "source": [
    "from wolframclient.language import wlexpr\n",
    "\n",
    "# Start a Mathematica kernel session\n",
    "session = WolframLanguageSession(kernel=kernelPath)\n",
    "\n",
    "# Load the Mathematica script into the session\n",
    "session.evaluate(f'Get[\"{mathematica_script_path}\"]')\n",
    "\n",
    "def TestLog(dim):\n",
    "    # Create the Mathematica expression as a string\n",
    "    mathematica_expr = f\"Total[Table[Log[x + i]^2/i, {{i, 1, {dim}}}]]\"\n",
    "    \n",
    "    # Pass the expression to the Mathematica session using wlexpr\n",
    "    return session.evaluate(wlexpr(mathematica_expr))\n",
    "\n",
    "def LogBasis(xin, dim):\n",
    "    # Create the Mathematica expression as a string\n",
    "    mathematica_expr = f\"Table[Log[{xin} + i]^2, {{i, 1, {dim}}}]\"\n",
    "    \n",
    "    # Pass the expression to the Mathematica session using wlexpr\n",
    "    return session.evaluate(wlexpr(mathematica_expr))\n",
    "\n",
    "def functlog(xin, dim):\n",
    "    # Call TestLog and substitute x with xin in the Mathematica expression\n",
    "    mathematica_expr = f\"Total[Table[Log[x + i]^2/i, {{i, 1, {dim}}}]] /. {{x -> {xin}}}\"\n",
    "    \n",
    "    # Pass the expression to the Mathematica session using wlexpr\n",
    "    return session.evaluate(wlexpr(mathematica_expr))\n",
    "    \n",
    "log = TestLog(5)\n",
    "logbasis = LogBasis(wl.x, 20)\n",
    "\n",
    "\n",
    "latexLog = session.evaluate(wl.ToString(wl.TeXForm(log)))\n",
    "latexLogBasis = session.evaluate(wl.ToString(wl.TeXForm(logbasis)))\n",
    "\n",
    "# Print the result\n",
    "# Render the LaTeX in Jupyter\n",
    "display(Math(latexLog))\n",
    "display(Math(latexLogBasis))\n",
    "\n",
    "print(\"test probe:\")\n",
    "\n",
    "testprobe = [functlog(f\"1/{n}\", 15) for n in range(3, 8)]\n",
    "\n",
    "latexProbe = session.evaluate(wl.ToString(wl.TeXForm(testprobe)))\n",
    "display(Math(latexProbe))\n",
    "\n",
    "print(\"basis eval:\")\n",
    "\n",
    "basiseval = [LogBasis(f\"1/{n}\", 30) for n in range(3, 8)]\n",
    "\n",
    "latexbasis = session.evaluate(wl.ToString(wl.TeXForm(basiseval)))\n",
    "display(Math(latexbasis))\n",
    "\n",
    "print(\"performed LLL\")\n",
    "\n",
    "arrayLLL = session.evaluate(\n",
    "    wl.Global.ArrayLatRed(basiseval, testprobe, 70)\n",
    ")\n",
    "\n",
    "LatexArrayLLL = session.evaluate(wl.ToString(wl.TeXForm(arrayLLL)))\n",
    "\n",
    "# Print the result\n",
    "print(f\"Array LLL result:\")\n",
    "display(Math(LatexArrayLLL))\n",
    "\n",
    "\n",
    "#check if equivalent\n",
    "mapThread = session.evaluate(wl.MapThread(wl.Times, wl.List(arrayLLL, LogBasis(f\"1/{wl.x}\", 30))))\n",
    "sumMap = session.evaluate(wl.Plus(*mapThread))  # This will unpack and sum the elements\n",
    "mapLatex = session.evaluate(wl.ToString(wl.TeXForm(sumMap)))\n",
    "\n",
    "# Print the result\n",
    "print(f\"MapThread:\")\n",
    "display(Math(mapLatex))\n",
    "\n",
    "print(\"Are equivalent?\")\n",
    "equiv = session.evaluate(sumMap == functlog(f\"1/{wl.x}\", 15))\n",
    "print(equiv)\n",
    "\n",
    "# Terminate the session\n",
    "session.terminate()"
   ]
  },
  {
   "cell_type": "code",
   "execution_count": null,
   "id": "22920248-828e-479d-823d-e5ed63f98a50",
   "metadata": {},
   "outputs": [],
   "source": []
  }
 ],
 "metadata": {
  "kernelspec": {
   "display_name": "Python 3 (ipykernel)",
   "language": "python",
   "name": "python3"
  },
  "language_info": {
   "codemirror_mode": {
    "name": "ipython",
    "version": 3
   },
   "file_extension": ".py",
   "mimetype": "text/x-python",
   "name": "python",
   "nbconvert_exporter": "python",
   "pygments_lexer": "ipython3",
   "version": "3.12.1"
  }
 },
 "nbformat": 4,
 "nbformat_minor": 5
}
