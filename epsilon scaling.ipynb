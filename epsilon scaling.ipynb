{
 "cells": [
  {
   "cell_type": "code",
   "execution_count": 1,
   "id": "c3380294-783b-4f20-880f-b9fac63daaa5",
   "metadata": {},
   "outputs": [],
   "source": [
    "from wolframclient.evaluation import WolframLanguageSession\n",
    "from wolframclient.language import wl\n",
    "from IPython.display import display, Math\n",
    "from wolframclient.language import wlexpr\n",
    "import sympy as sp\n",
    "import numpy as np\n",
    "import matplotlib.pyplot as plt\n",
    "\n",
    "# Path to the Mathematica kernel\n",
    "kernelPath = \"/Applications/Wolfram.app/Contents/MacOS/WolframKernel\"\n",
    "\n",
    "# Define the path to the Mathematica script\n",
    "mathematica_script_path = 'MathematicaScripts/LLL.wl'\n",
    "\n"
   ]
  },
  {
   "cell_type": "code",
   "execution_count": 2,
   "id": "1fc68f60-de1c-45f0-8164-cf900c586dc7",
   "metadata": {},
   "outputs": [
    {
     "data": {
      "text/latex": [
       "$\\displaystyle \\left\\{\\log ^2(x+5),\\log ^2(x+10)\\right\\}$"
      ],
      "text/plain": [
       "<IPython.core.display.Math object>"
      ]
     },
     "metadata": {},
     "output_type": "display_data"
    },
    {
     "name": "stdout",
     "output_type": "stream",
     "text": [
      "test probe:\n"
     ]
    },
    {
     "data": {
      "text/latex": [
       "$\\displaystyle \\left\\{\\frac{\\log ^2(8)}{5}+\\frac{\\log ^2(13)}{10},\\frac{\\log ^2(17)}{5}+\\frac{\\log ^2(22)}{10}\\right\\}$"
      ],
      "text/plain": [
       "<IPython.core.display.Math object>"
      ]
     },
     "metadata": {},
     "output_type": "display_data"
    },
    {
     "name": "stdout",
     "output_type": "stream",
     "text": [
      "basis eval:\n"
     ]
    },
    {
     "data": {
      "text/latex": [
       "$\\displaystyle \\left(\n",
       "\\begin{array}{cc}\n",
       " \\log ^2(8) & \\log ^2(13) \\\\\n",
       " \\log ^2(17) & \\log ^2(22) \\\\\n",
       "\\end{array}\n",
       "\\right)$"
      ],
      "text/plain": [
       "<IPython.core.display.Math object>"
      ]
     },
     "metadata": {},
     "output_type": "display_data"
    },
    {
     "name": "stdout",
     "output_type": "stream",
     "text": [
      "performed LLL\n",
      "Array LLL result:\n"
     ]
    },
    {
     "data": {
      "text/latex": [
       "$\\displaystyle \\left\\{\\frac{1}{5},\\frac{1}{10}\\right\\}$"
      ],
      "text/plain": [
       "<IPython.core.display.Math object>"
      ]
     },
     "metadata": {},
     "output_type": "display_data"
    },
    {
     "name": "stdout",
     "output_type": "stream",
     "text": [
      "MapThread:\n"
     ]
    },
    {
     "data": {
      "text/latex": [
       "$\\displaystyle \\frac{1}{5} \\log ^2(x+5)+\\frac{1}{10} \\log ^2(x+10)$"
      ],
      "text/plain": [
       "<IPython.core.display.Math object>"
      ]
     },
     "metadata": {},
     "output_type": "display_data"
    },
    {
     "name": "stdout",
     "output_type": "stream",
     "text": [
      "Are equivalent?\n",
      "True\n"
     ]
    }
   ],
   "source": [
    "from wolframclient.language import wlexpr\n",
    "\n",
    "# Start a Mathematica kernel session\n",
    "session = WolframLanguageSession(kernel=kernelPath)\n",
    "\n",
    "# Load the Mathematica script into the session\n",
    "session.evaluate(f'Get[\"{mathematica_script_path}\"]')\n",
    "\n",
    "def LogBasis(xin, s1, s2):\n",
    "    # Create the Mathematica expression as a string\n",
    "    mathematica_expr = f\"Table[Log[{xin} + i]^2, {{i, {{{s1}, {s2}}}}}]\"\n",
    "\n",
    "    # Pass the expression to the Mathematica session using wlexpr\n",
    "    return session.evaluate(wlexpr(mathematica_expr))\n",
    "\n",
    "def functlog(xin, s1, s2):\n",
    "    # Mathematica expression with specific values s1 and s2\n",
    "    mathematica_expr = f\"Total[Table[Log[x + i]^2/i, {{i, {{{s1}, {s2}}}}}]] /. {{x -> {xin}}}\"\n",
    "    \n",
    "    # Pass the expression to the Mathematica session using wlexpr\n",
    "    return session.evaluate(wlexpr(mathematica_expr))\n",
    "\n",
    "I, J = 5, 10\n",
    "\n",
    "logbasis = LogBasis(wl.x, I, J)\n",
    "latexLogBasis = session.evaluate(wl.ToString(wl.TeXForm(logbasis)))\n",
    "\n",
    "display(Math(latexLogBasis))\n",
    "\n",
    "print(\"test probe:\")\n",
    "\n",
    "testprobe = [functlog(f\"{n}\", I, J) for n in (3, 12)]\n",
    "\n",
    "latexProbe = session.evaluate(wl.ToString(wl.TeXForm(testprobe)))\n",
    "display(Math(latexProbe))\n",
    "\n",
    "print(\"basis eval:\")\n",
    "\n",
    "basiseval = [LogBasis(f\"{n}\", I, J) for n in (3, 12)]\n",
    "\n",
    "latexbasis = session.evaluate(wl.ToString(wl.TeXForm(basiseval)))\n",
    "display(Math(latexbasis))\n",
    "\n",
    "arrayLLL = session.evaluate(\n",
    "    wl.Global.ArrayLatRed(basiseval, testprobe, 30)\n",
    ")\n",
    "\n",
    "print(\"performed LLL\")\n",
    "\n",
    "LatexArrayLLL = session.evaluate(wl.ToString(wl.TeXForm(arrayLLL)))\n",
    "\n",
    "# Print the result\n",
    "print(f\"Array LLL result:\")\n",
    "display(Math(LatexArrayLLL))\n",
    "\n",
    "#check if equivalent\n",
    "mapThread = session.evaluate(wl.MapThread(wl.Times, wl.List(arrayLLL, LogBasis(f\"{wl.x}\", I, J))))\n",
    "sumMap = session.evaluate(wl.Plus(*mapThread))  # This will unpack and sum the elements\n",
    "mapLatex = session.evaluate(wl.ToString(wl.TeXForm(sumMap)))\n",
    "\n",
    "# Print the result\n",
    "print(f\"MapThread:\")\n",
    "display(Math(mapLatex))\n",
    "\n",
    "print(\"Are equivalent?\")\n",
    "equiv = session.evaluate(sumMap == functlog(f\"{wl.x}\", I, J))\n",
    "print(equiv)\n",
    "\n",
    "# Terminate the session\n",
    "session.terminate()"
   ]
  },
  {
   "cell_type": "markdown",
   "id": "d4b8e2b5-20d6-4d82-b5ea-9e5f6043e0c7",
   "metadata": {},
   "source": [
    "## We want to test what happens as (i - j) varies, as well as how precision varies as $\\epsilon \\to 0$ points we evaluate i + $\\epsilon$, j + $\\epsilon$ "
   ]
  },
  {
   "cell_type": "code",
   "execution_count": 95,
   "id": "d38ac150-9839-4da0-af86-19d3209951f3",
   "metadata": {},
   "outputs": [
    {
     "name": "stdout",
     "output_type": "stream",
     "text": [
      "2\n"
     ]
    }
   ],
   "source": [
    "# Start a Mathematica kernel session\n",
    "session = WolframLanguageSession(kernel=kernelPath)\n",
    "\n",
    "# Load the Mathematica script into the session\n",
    "session.evaluate(f'Get[\"{mathematica_script_path}\"]')\n",
    "\n",
    "\n",
    "def varyDifference(s1, distance, epsilon):\n",
    "    #function to get minimum number of digits to get result\n",
    "    equivalent = False\n",
    "    precision = 1\n",
    "    s2 = s1 + distance\n",
    "\n",
    "    def checkLLL(LLLresult):\n",
    "\n",
    "        mapThread = session.evaluate(wl.MapThread(wl.Times, wl.List(LLLresult, LogBasis(f\"{wl.x}\", s1, s2))))\n",
    "        sumMap = session.evaluate(wl.Plus(*mapThread))  # This will unpack and sum the elements\n",
    "        equiv = session.evaluate(sumMap == functlog(f\"{wl.x}\", s1, s2))\n",
    "        return equiv\n",
    "    \n",
    "\n",
    "    testprobe = [functlog(f\"{n}\", s1, s2) for n in (-1*s1 + epsilon, -1*s2 + epsilon)]\n",
    "\n",
    "    basiseval = [LogBasis(f\"{n}\", s1, s2) for n in (-1*s1 + epsilon, -1*s2 + epsilon)]\n",
    "\n",
    "    while not equivalent and precision < 50:\n",
    "\n",
    "            try:\n",
    "                arrayLLL = session.evaluate(wl.Quiet(wl.Global.ArrayLatRed(basiseval, testprobe, precision)))\n",
    "                equivalent = checkLLL(arrayLLL)\n",
    "                \n",
    "            except Exception as e:\n",
    "                pass\n",
    "                \n",
    "            precision += 1\n",
    "\n",
    "    return precision\n",
    "\n",
    "print(varyDifference(3, 10, 1e-5))\n",
    "\n",
    "# #vary epsilon\n",
    "# eps = np.logspace(16,-16, 100)\n",
    "# minDigitEpsilon = []\n",
    "# for e in eps:\n",
    "#     minDigitEpsilon.append(varyDifference(3, 10, e))\n",
    "\n",
    "#vary distance\n",
    "dist = np.logspace(0,6, 100, dtype=int)\n",
    "minDigitDistance = []\n",
    "for d in dist:\n",
    "    minDigitDistance.append(varyDifference(3, d, 1e-2))\n",
    "\n",
    "# Terminate the session\n",
    "session.terminate()"
   ]
  },
  {
   "cell_type": "code",
   "execution_count": 41,
   "id": "41830521-1265-4fa0-b4a0-43d785b6bd01",
   "metadata": {},
   "outputs": [
    {
     "data": {
      "image/png": "[encoded data removed]",
      "text/plain": [
       "<Figure size 640x480 with 1 Axes>"
      ]
     },
     "metadata": {},
     "output_type": "display_data"
    }
   ],
   "source": [
    "plt.plot(eps, minDigitEpsilon)\n",
    "plt.xlabel(r'$\\epsilon$')\n",
    "plt.ylabel(\"Min Digits Needed\")\n",
    "plt.xscale('log')\n",
    "# plt.ylim(0,5)"
   ]
  },
  {
   "cell_type": "markdown",
   "id": "afb62ef5-976e-4467-aa01-37e69fe8a894",
   "metadata": {},
   "source": [
    "And we see the digits of precision scale with"
   ]
  },
  {
   "cell_type": "code",
   "execution_count": 96,
   "id": "5e23f1ef-0ced-4e98-b99e-240877beb8f6",
   "metadata": {},
   "outputs": [
    {
     "data": {
      "image/png": "[encoded data removed]",
      "text/plain": [
       "<Figure size 640x480 with 1 Axes>"
      ]
     },
     "metadata": {},
     "output_type": "display_data"
    }
   ],
   "source": [
    "plt.plot(dist, minDigitDistance)\n",
    "plt.xlabel('distance between s1, s2')\n",
    "plt.ylabel(\"Min Digits Needed\")\n",
    "plt.xscale('log')\n",
    "plt.show()"
   ]
  }
 ],
 "metadata": {
  "kernelspec": {
   "display_name": "Python 3 (ipykernel)",
   "language": "python",
   "name": "python3"
  },
  "language_info": {
   "codemirror_mode": {
    "name": "ipython",
    "version": 3
   },
   "file_extension": ".py",
   "mimetype": "text/x-python",
   "name": "python",
   "nbconvert_exporter": "python",
   "pygments_lexer": "ipython3",
   "version": "3.12.1"
  }
 },
 "nbformat": 4,
 "nbformat_minor": 5
}
